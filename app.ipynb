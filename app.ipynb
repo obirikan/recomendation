{
 "cells": [
  {
   "cell_type": "code",
   "execution_count": 40,
   "metadata": {},
   "outputs": [],
   "source": [
    "import pandas as pd\n",
    "import matplotlib.pyplot as plt\n",
    "from sklearn import linear_model,preprocessing\n",
    "import sklearn\n",
    "from sklearn import linear_model,preprocessing\n",
    "from sklearn.neighbors import KNeighborsClassifier\n",
    "import pickle"
   ]
  },
  {
   "cell_type": "code",
   "execution_count": 41,
   "metadata": {
    "scrolled": true
   },
   "outputs": [
    {
     "name": "stdout",
     "output_type": "stream",
     "text": [
      "   SCHOOL                               PROGRAMME   FEES LOCATION\n",
      "0  ASHESI                    COMPUTER ENGINEERING  32739    ACCRA\n",
      "1  ASHESI                  MECHANICAL ENGINEERING  32739    ACCRA\n",
      "2  ASHESI  ELECTRICAL AND ELECTRONIC ENGINERREING  32739    ACCRA\n",
      "3  ASHESI                        COMPUTER SCIENCE  32739    ACCRA\n",
      "4  ASHESI           MANAGEMENT INFORMATION SYSTEM  32739    ACCRA\n"
     ]
    }
   ],
   "source": [
    "data = pd.read_csv('Dataset.csv',encoding = \"ISO-8859-1\")\n",
    "print(data.head())"
   ]
  },
  {
   "cell_type": "code",
   "execution_count": 42,
   "metadata": {},
   "outputs": [],
   "source": [
    "\n",
    "le=preprocessing.LabelEncoder()"
   ]
  },
  {
   "cell_type": "code",
   "execution_count": 46,
   "metadata": {
    "scrolled": true
   },
   "outputs": [
    {
     "name": "stdout",
     "output_type": "stream",
     "text": [
      "predicted: 1 data: (131, 22, 1) actual 4\n",
      "predicted: 3 data: (85, 59, 0) actual 0\n",
      "predicted: 4 data: (133, 12, 1) actual 4\n",
      "predicted: 4 data: (245, 12, 1) actual 4\n",
      "predicted: 4 data: (15, 12, 1) actual 4\n",
      "predicted: 2 data: (196, 6, 3) actual 2\n",
      "predicted: 3 data: (30, 29, 2) actual 3\n",
      "predicted: 3 data: (71, 34, 2) actual 3\n",
      "predicted: 1 data: (125, 45, 0) actual 1\n",
      "predicted: 3 data: (29, 25, 2) actual 3\n",
      "predicted: 1 data: (112, 58, 2) actual 3\n",
      "predicted: 2 data: (205, 12, 1) actual 4\n",
      "predicted: 2 data: (234, 6, 3) actual 2\n",
      "predicted: 2 data: (211, 6, 3) actual 2\n",
      "predicted: 4 data: (178, 2, 1) actual 4\n",
      "predicted: 3 data: (101, 28, 2) actual 3\n",
      "predicted: 4 data: (180, 2, 1) actual 4\n",
      "predicted: 2 data: (249, 6, 3) actual 2\n",
      "predicted: 2 data: (228, 6, 3) actual 2\n",
      "predicted: 2 data: (192, 1, 3) actual 2\n",
      "predicted: 3 data: (53, 42, 2) actual 3\n",
      "predicted: 4 data: (14, 12, 1) actual 4\n",
      "predicted: 4 data: (106, 2, 1) actual 4\n",
      "predicted: 3 data: (37, 29, 2) actual 3\n",
      "predicted: 1 data: (118, 51, 0) actual 1\n",
      "predicted: 1 data: (139, 46, 0) actual 1\n"
     ]
    }
   ],
   "source": [
    "SCHOOL=le.fit_transform(list(data['SCHOOL']))\n",
    "PROGRAMME=le.fit_transform(list(data['PROGRAMME']))\n",
    "FEES=le.fit_transform(list(data['FEES']))\n",
    "LOCATION=le.fit_transform(list(data['LOCATION']))\n",
    "x=list(zip(PROGRAMME,FEES,LOCATION))\n",
    "y=list(SCHOOL)\n",
    "x_train,x_test,y_train,y_test=sklearn.model_selection.train_test_split(x,y,test_size=0.1)\n",
    "\n",
    "best=0\n",
    "\n",
    "\n",
    "for _ in range(100):\n",
    "    x_train,x_test,y_train,y_test=sklearn.model_selection.train_test_split(x,y,test_size=0.09)\n",
    "\n",
    "    #use the KNN module\n",
    "    model=KNeighborsClassifier(n_neighbors=5)\n",
    "\n",
    "    #minimizing error(gradient decent)\n",
    "    model.fit(x_train,y_train)\n",
    "\n",
    "    #test the accuracy of the error\n",
    "    acc=model.score(x_test,y_test)\n",
    "\n",
    "    if acc>best:\n",
    "        best=acc\n",
    "        with open('studentmodel.pickle','wb') as f:\n",
    "           pickle.dump(model,f)\n",
    "\n",
    "\n",
    "savedmodel=open('studentmodel.pickle', 'rb')\n",
    "newmodel=pickle.load(savedmodel)\n",
    "\n",
    "predicted=newmodel.predict(x_test)\n",
    "names=['ashsi','central','tech','ucc','legon']\n",
    "\n",
    "\n",
    "#loop through prediction to see if your data is corresponding well\n",
    "for x in range(len(predicted)):\n",
    "    print('predicted:',names[predicted[x]],'data:',x_test[x],'actual',names[y_test[x]])\n",
    "\n",
    "\n",
    "\n",
    "\n",
    "\n"
   ]
  },
  {
   "cell_type": "code",
   "execution_count": null,
   "metadata": {},
   "outputs": [],
   "source": []
  },
  {
   "cell_type": "code",
   "execution_count": null,
   "metadata": {},
   "outputs": [],
   "source": []
  },
  {
   "cell_type": "code",
   "execution_count": null,
   "metadata": {},
   "outputs": [],
   "source": []
  }
 ],
 "metadata": {
  "kernelspec": {
   "display_name": "Python 3 (ipykernel)",
   "language": "python",
   "name": "python3"
  },
  "language_info": {
   "codemirror_mode": {
    "name": "ipython",
    "version": 3
   },
   "file_extension": ".py",
   "mimetype": "text/x-python",
   "name": "python",
   "nbconvert_exporter": "python",
   "pygments_lexer": "ipython3",
   "version": "3.9.12"
  },
  "vscode": {
   "interpreter": {
    "hash": "aee8b7b246df8f9039afb4144a1f6fd8d2ca17a180786b69acc140d282b71a49"
   }
  }
 },
 "nbformat": 4,
 "nbformat_minor": 2
}
