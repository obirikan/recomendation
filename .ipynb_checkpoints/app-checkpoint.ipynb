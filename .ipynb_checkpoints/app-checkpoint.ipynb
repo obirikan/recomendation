{
 "cells": [
  {
   "cell_type": "code",
   "execution_count": 1,
   "metadata": {},
   "outputs": [],
   "source": [
    "import pandas as pd\n",
    "from scipy import sparse\n",
    "from sklearn.metrics.pairwise import cosine_similarity\n",
    "from sklearn import linear_model,preprocessing"
   ]
  },
  {
   "cell_type": "code",
   "execution_count": 4,
   "metadata": {
    "scrolled": true
   },
   "outputs": [
    {
     "name": "stdout",
     "output_type": "stream",
     "text": [
      "   SCHOOL                               PROGRAMME  FEES(GHS) LOCATION\n",
      "0  ASHESI                    COMPUTER ENGINEERING      32739    ACCRA\n",
      "1  ASHESI                  MECHANICAL ENGINEERING      32739    ACCRA\n",
      "2  ASHESI  ELECTRICAL AND ELECTRONIC ENGINERREING      32739    ACCRA\n",
      "3  ASHESI                        COMPUTER SCIENCE      32739    ACCRA\n",
      "4  ASHESI           MANAGEMENT INFORMATION SYSTEM      32739    ACCRA\n"
     ]
    }
   ],
   "source": [
    "data = pd.read_csv('Dataset.csv',encoding = \"ISO-8859-1\")\n",
    "print(data.head())"
   ]
  },
  {
   "cell_type": "code",
   "execution_count": 3,
   "metadata": {},
   "outputs": [],
   "source": [
    "\n",
    "le=preprocessing.LabelEncoder()"
   ]
  },
  {
   "cell_type": "code",
   "execution_count": null,
   "metadata": {},
   "outputs": [],
   "source": [
    "SCHOOL=le.fit_transform(list(df['buying']))\n",
    "maint=le.fit_transform(list(df['maint']))\n",
    "door=le.fit_transform(list(df['door']))\n"
   ]
  }
 ],
 "metadata": {
  "kernelspec": {
   "display_name": "Python 3 (ipykernel)",
   "language": "python",
   "name": "python3"
  },
  "language_info": {
   "codemirror_mode": {
    "name": "ipython",
    "version": 3
   },
   "file_extension": ".py",
   "mimetype": "text/x-python",
   "name": "python",
   "nbconvert_exporter": "python",
   "pygments_lexer": "ipython3",
   "version": "3.9.12"
  },
  "vscode": {
   "interpreter": {
    "hash": "aee8b7b246df8f9039afb4144a1f6fd8d2ca17a180786b69acc140d282b71a49"
   }
  }
 },
 "nbformat": 4,
 "nbformat_minor": 2
}
